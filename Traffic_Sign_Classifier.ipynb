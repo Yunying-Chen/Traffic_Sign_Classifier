{
 "cells": [
  {
   "cell_type": "markdown",
   "metadata": {},
   "source": [
    "# Traffic Sign Recognition Classifier\n",
    "\n",
    "In this project, it will use German Traffic Sign Dataset as dataset."
   ]
  },
  {
   "cell_type": "markdown",
   "metadata": {},
   "source": [
    "## Step 1:Load the data"
   ]
  },
  {
   "cell_type": "code",
   "execution_count": 44,
   "metadata": {},
   "outputs": [],
   "source": [
    "# Load pickled data\n",
    "import pickle\n",
    "\n",
    "training_file = \"train.p\"\n",
    "validation_file=\"valid.p\"\n",
    "testing_file = \"test.p\"\n",
    "\n",
    "with open(training_file, mode='rb') as f:\n",
    "    train = pickle.load(f)\n",
    "with open(validation_file, mode='rb') as f:\n",
    "    valid = pickle.load(f)\n",
    "with open(testing_file, mode='rb') as f:\n",
    "    test = pickle.load(f)\n",
    "    \n",
    "X_train, y_train = train['features'], train['labels']\n",
    "X_valid, y_valid = valid['features'], valid['labels']\n",
    "X_test, y_test = test['features'], test['labels']"
   ]
  },
  {
   "cell_type": "markdown",
   "metadata": {},
   "source": [
    "### Analyze the dataset such as its size and the shape of the images."
   ]
  },
  {
   "cell_type": "code",
   "execution_count": 3,
   "metadata": {},
   "outputs": [
    {
     "name": "stdout",
     "output_type": "stream",
     "text": [
      "Number of training examples = 34799\n",
      "Number of validation examples = 4410\n",
      "Number of testing examples = 12630\n",
      "Image data shape = (32, 32, 3)\n",
      "Number of classes = 43\n"
     ]
    }
   ],
   "source": [
    "n_train = len(y_train)\n",
    "n_validation = len(y_valid)\n",
    "n_test = len(y_test)\n",
    "\n",
    "image_shape = X_train[0].shape\n",
    "n_classes = len(set(y_train))\n",
    "\n",
    "print(\"Number of training examples =\", n_train)\n",
    "print(\"Number of validation examples =\", n_validation)\n",
    "print(\"Number of testing examples =\", n_test)\n",
    "print(\"Image data shape =\", image_shape)\n",
    "print(\"Number of classes =\", n_classes)"
   ]
  },
  {
   "cell_type": "markdown",
   "metadata": {},
   "source": [
    "### Visualize the dataset"
   ]
  },
  {
   "cell_type": "code",
   "execution_count": 10,
   "metadata": {},
   "outputs": [
    {
     "data": {
      "image/png": "[encoded data removed]",
      "text/plain": [
       "<matplotlib.figure.Figure at 0x2da333679e8>"
      ]
     },
     "metadata": {},
     "output_type": "display_data"
    },
    {
     "name": "stdout",
     "output_type": "stream",
     "text": [
      "31\n"
     ]
    },
    {
     "data": {
      "image/png": "[encoded data removed]",
      "text/plain": [
       "<matplotlib.figure.Figure at 0x2da33211400>"
      ]
     },
     "metadata": {},
     "output_type": "display_data"
    }
   ],
   "source": [
    "import matplotlib.pyplot as plt\n",
    "plt.hist(y_train, bins = n_classes)\n",
    "plt.xlim(xmax=n_classes-1)\n",
    "plt.show()\n",
    "\n",
    "index=840\n",
    "image = X_train[index].squeeze()\n",
    "plt.figure(figsize=(2,2))\n",
    "plt.imshow(image)\n",
    "print(y_train[index])"
   ]
  },
  {
   "cell_type": "markdown",
   "metadata": {},
   "source": [
    "## Step 2: Design and Test a Model Architecture"
   ]
  },
  {
   "cell_type": "markdown",
   "metadata": {},
   "source": [
    "### Preprocess the dataset by grayscaling and normalizing the images"
   ]
  },
  {
   "cell_type": "code",
   "execution_count": 45,
   "metadata": {},
   "outputs": [
    {
     "name": "stdout",
     "output_type": "stream",
     "text": [
      "31\n"
     ]
    },
    {
     "data": {
      "image/png": "[encoded data removed]",
      "text/plain": [
       "<matplotlib.figure.Figure at 0x2da39221c50>"
      ]
     },
     "metadata": {},
     "output_type": "display_data"
    }
   ],
   "source": [
    "import numpy as np\n",
    "import cv2\n",
    "\n",
    "def Process(images):\n",
    "    list_img = []\n",
    "    for img in images:\n",
    "        gray = np.expand_dims(cv2.cvtColor(img,cv2.COLOR_RGB2GRAY),2)\n",
    "        gray=(gray-np.mean(gray))/np.std(gray)\n",
    "        list_img.append(gray)\n",
    "    return list_img\n",
    "\n",
    "X_train = Process(X_train)\n",
    "X_valid = Process(X_valid)\n",
    "X_test = Process(X_test)\n",
    "index=840\n",
    "image = X_train[index].squeeze()\n",
    "plt.figure(figsize=(3,3))\n",
    "plt.imshow(image,cmap=\"gray\")\n",
    "print(y_train[index])"
   ]
  },
  {
   "cell_type": "markdown",
   "metadata": {},
   "source": [
    "### Model Architecture"
   ]
  },
  {
   "cell_type": "code",
   "execution_count": 29,
   "metadata": {},
   "outputs": [],
   "source": [
    "from  tensorflow.contrib.layers import flatten\n",
    "def Inference(x,num_class):    \n",
    "    # Hyperparameters\n",
    "    mu = 0\n",
    "    sigma = 0.1\n",
    "    \n",
    "    # Convolutional Layer. Input = 32x32x1. Output = 32x32x12\n",
    "    conv0_W = tf.Variable(tf.truncated_normal(shape=(3, 3, 1, 12), mean = mu, stddev = sigma))\n",
    "    conv0_b = tf.Variable(tf.zeros([12]))\n",
    "    conv0 = tf.nn.conv2d(x, conv0_W, strides=[1, 1, 1, 1], padding='SAME') + conv0_b\n",
    "    conv0 = tf.nn.relu(conv0)\n",
    "\n",
    "    # Convolutional Layer. Input = 32x32x12. Output = 32x32x12.\n",
    "    conv5x5_W = tf.Variable(tf.truncated_normal(shape=(5, 5, 12, 12), mean = mu, stddev = sigma))\n",
    "    conv5x5_b = tf.Variable(tf.zeros([12]))\n",
    "    conv5x5 = tf.nn.conv2d(conv0, conv5x5_W, strides=[1, 1, 1, 1], padding='SAME') + conv5x5_b\n",
    "    conv5x5 = tf.nn.relu(conv5x5)\n",
    "    \n",
    "    # Convolutional Layer. Input = 32x32x12. Output = 32x32x12.\n",
    "    conv3x3_W = tf.Variable(tf.truncated_normal(shape=(3,3, 12, 12), mean = mu, stddev = sigma))\n",
    "    conv3x3_b = tf.Variable(tf.zeros([12]))\n",
    "    conv3x3 = tf.nn.conv2d(conv0, conv3x3_W, strides=[1, 1, 1, 1], padding='SAME') + conv3x3_b\n",
    "    conv3x3 = tf.nn.relu(conv3x3)\n",
    "    \n",
    "    # Convolutional Layer. Input = 32x32x12. Output = 32x32x12.\n",
    "    conv1x1_W = tf.Variable(tf.truncated_normal(shape=(1,1, 12, 12), mean = mu, stddev = sigma))\n",
    "    conv1x1_b = tf.Variable(tf.zeros([12]))\n",
    "    conv1x1 = tf.nn.conv2d(conv0, conv1x1_W, strides=[1, 1, 1, 1], padding='SAME') + conv1x1_b\n",
    "    conv1x1 = tf.nn.relu(conv1x1)\n",
    "    \n",
    "    # AVG Pooling. Input = 32x32x12. Output = 32x32x12.\n",
    "    conv_pool = tf.nn.avg_pool(conv0, ksize=[1, 2, 2, 1], strides=[1, 1, 1, 1], padding='SAME')\n",
    "    \n",
    "    # Concat Layer. Output = 32x32*48\n",
    "    conv_inc = tf.concat(3,[conv5x5,conv3x3,conv1x1,conv_pool])\n",
    "    conv_inc = tf.nn.relu(conv_inc)\n",
    "    \n",
    "    # Convolutional Layer. Input = 32x32x48. Output = 28x28x48.\n",
    "    conv1_W = tf.Variable(tf.truncated_normal(shape=(5, 5, 48, 48), mean = mu, stddev = sigma))\n",
    "    conv1_b = tf.Variable(tf.zeros([48]))\n",
    "    conv1 = tf.nn.conv2d(conv_inc, conv1_W, strides=[1, 1, 1, 1], padding='VALID') + conv1_b\n",
    "    conv1 = tf.nn.relu(conv1)\n",
    "\n",
    "    # Max Pooling. Input = 28x28x48. Output = 14x14x48.\n",
    "    conv1 = tf.nn.max_pool(conv1, ksize=[1, 2, 2, 1], strides=[1, 2, 2, 1], padding='VALID')\n",
    "\n",
    "    # Convolutional Layer. Output = 10x10x96.\n",
    "    conv2_W = tf.Variable(tf.truncated_normal(shape=(5, 5, 48, 96), mean = mu, stddev = sigma))\n",
    "    conv2_b = tf.Variable(tf.zeros([96]))\n",
    "    conv2 = tf.nn.conv2d(conv1, conv2_W, strides=[1, 1, 1, 1], padding='VALID') + conv2_b\n",
    "    conv2 = tf.nn.relu(conv2)\n",
    "\n",
    "    # Max Pooling. Input = 10x10x96. Output = 5x5x96.\n",
    "    conv2 = tf.nn.max_pool(conv2, ksize=[1, 2, 2, 1], strides=[1, 2, 2, 1], padding='VALID')\n",
    "    \n",
    "    # Convolutional Layer. Input = 5x5x96. Output = 3x3x128.\n",
    "    conv3_W = tf.Variable(tf.truncated_normal(shape=(3, 3, 96, 128), mean = mu, stddev = sigma))\n",
    "    conv3_b = tf.Variable(tf.zeros([128]))\n",
    "    conv3 = tf.nn.conv2d(conv2, conv3_W, strides=[1, 1, 1, 1], padding='VALID') + conv3_b\n",
    "    conv3 = tf.nn.relu(conv3)\n",
    "    \n",
    "    # Max Pooling. Input = 3x3x128. Output = 2x2x128\n",
    "    conv3 = tf.nn.max_pool(conv3, ksize=[1, 2, 2, 1], strides=[1, 1, 1, 1], padding='VALID')\n",
    "    \n",
    "    # Flatten. Input = 2x2x128. Output = 512.\n",
    "    fc1 = flatten(conv3)\n",
    "    \n",
    "    # Fully Connected. Input = 512. Output = 120.\n",
    "    fc2_W = tf.Variable(tf.truncated_normal(shape=(512 , 120), mean = mu, stddev = sigma))\n",
    "    fc2_b = tf.Variable(tf.zeros([120]))\n",
    "    fc2 = tf.matmul(fc1, fc2_W)+fc2_b\n",
    "    fc2 = tf.nn.relu(fc2)\n",
    "    fc2 = tf.nn.dropout(fc2,keep_prob=0.5)\n",
    "    # Fully Connected. Input = 120. Output = num_class.\n",
    "    fc3_W = tf.Variable(tf.truncated_normal(shape=(120, num_class), mean = mu, stddev = sigma))\n",
    "    fc3_b = tf.Variable(tf.zeros([num_class]))\n",
    "    logits = tf.matmul(fc2, fc3_W)+fc3_b\n",
    "\n",
    "    \n",
    "    return logits"
   ]
  },
  {
   "cell_type": "markdown",
   "metadata": {},
   "source": [
    "### Train, Validate and Test the Model"
   ]
  },
  {
   "cell_type": "code",
   "execution_count": 30,
   "metadata": {},
   "outputs": [
    {
     "name": "stdout",
     "output_type": "stream",
     "text": [
      "Training...\n",
      "\n",
      "EPOCH 1 ...\n",
      "Train Accuracy = 0.845\n",
      "Validation Accuracy = 0.794\n",
      "\n",
      "EPOCH 2 ...\n",
      "Train Accuracy = 0.940\n",
      "Validation Accuracy = 0.886\n",
      "\n",
      "EPOCH 3 ...\n",
      "Train Accuracy = 0.969\n",
      "Validation Accuracy = 0.926\n",
      "\n",
      "EPOCH 4 ...\n",
      "Train Accuracy = 0.974\n",
      "Validation Accuracy = 0.933\n",
      "\n",
      "EPOCH 5 ...\n",
      "Train Accuracy = 0.983\n",
      "Validation Accuracy = 0.951\n",
      "\n",
      "EPOCH 6 ...\n",
      "Train Accuracy = 0.986\n",
      "Validation Accuracy = 0.959\n",
      "\n",
      "EPOCH 7 ...\n",
      "Train Accuracy = 0.986\n",
      "Validation Accuracy = 0.960\n",
      "\n",
      "EPOCH 8 ...\n",
      "Train Accuracy = 0.992\n",
      "Validation Accuracy = 0.965\n",
      "\n",
      "EPOCH 9 ...\n",
      "Train Accuracy = 0.993\n",
      "Validation Accuracy = 0.968\n",
      "\n",
      "EPOCH 10 ...\n",
      "Train Accuracy = 0.994\n",
      "Validation Accuracy = 0.967\n",
      "\n",
      "EPOCH 11 ...\n",
      "Train Accuracy = 0.995\n",
      "Validation Accuracy = 0.971\n",
      "\n",
      "EPOCH 12 ...\n",
      "Train Accuracy = 0.990\n",
      "Validation Accuracy = 0.963\n",
      "\n",
      "EPOCH 13 ...\n",
      "Train Accuracy = 0.993\n",
      "Validation Accuracy = 0.961\n",
      "\n",
      "EPOCH 14 ...\n",
      "Train Accuracy = 0.994\n",
      "Validation Accuracy = 0.970\n",
      "\n",
      "EPOCH 15 ...\n",
      "Train Accuracy = 0.995\n",
      "Validation Accuracy = 0.975\n",
      "\n",
      "EPOCH 16 ...\n",
      "Train Accuracy = 0.996\n",
      "Validation Accuracy = 0.970\n",
      "\n",
      "EPOCH 17 ...\n",
      "Train Accuracy = 0.995\n",
      "Validation Accuracy = 0.975\n",
      "\n",
      "EPOCH 18 ...\n",
      "Train Accuracy = 0.998\n",
      "Validation Accuracy = 0.983\n",
      "\n",
      "EPOCH 19 ...\n",
      "Train Accuracy = 0.997\n",
      "Validation Accuracy = 0.978\n",
      "\n",
      "EPOCH 20 ...\n",
      "Train Accuracy = 0.995\n",
      "Validation Accuracy = 0.971\n",
      "\n",
      "EPOCH 21 ...\n",
      "Train Accuracy = 0.999\n",
      "Validation Accuracy = 0.983\n",
      "\n",
      "EPOCH 22 ...\n",
      "Train Accuracy = 0.998\n",
      "Validation Accuracy = 0.982\n",
      "\n",
      "EPOCH 23 ...\n",
      "Train Accuracy = 0.997\n",
      "Validation Accuracy = 0.979\n",
      "\n",
      "EPOCH 24 ...\n",
      "Train Accuracy = 0.998\n",
      "Validation Accuracy = 0.982\n",
      "\n",
      "EPOCH 25 ...\n",
      "Train Accuracy = 0.999\n",
      "Validation Accuracy = 0.981\n",
      "\n",
      "EPOCH 26 ...\n",
      "Train Accuracy = 0.997\n",
      "Validation Accuracy = 0.978\n",
      "\n",
      "EPOCH 27 ...\n",
      "Train Accuracy = 0.999\n",
      "Validation Accuracy = 0.982\n",
      "\n",
      "EPOCH 28 ...\n",
      "Train Accuracy = 0.998\n",
      "Validation Accuracy = 0.981\n",
      "\n",
      "EPOCH 29 ...\n",
      "Train Accuracy = 0.999\n",
      "Validation Accuracy = 0.987\n",
      "\n",
      "EPOCH 30 ...\n",
      "Train Accuracy = 0.997\n",
      "Validation Accuracy = 0.982\n",
      "\n",
      "Model saved\n"
     ]
    }
   ],
   "source": [
    "import tensorflow as tf\n",
    "from sklearn.utils import shuffle\n",
    "\n",
    "x = tf.placeholder(tf.float32, (None, 32, 32, 1))\n",
    "y = tf.placeholder(tf.int32, (None))\n",
    "y_one_hot = tf.one_hot(y, n_classes)\n",
    "logits = Inference(x,n_classes)\n",
    "cross_entropy = tf.nn.softmax_cross_entropy_with_logits(logits, y_one_hot)\n",
    "loss_operation = tf.reduce_mean(cross_entropy)\n",
    "optimizer = tf.train.AdamOptimizer(learning_rate = 0.001)\n",
    "training_operation = optimizer.minimize(loss_operation)\n",
    "correct_prediction = tf.equal(tf.argmax(logits, 1), tf.argmax(y_one_hot, 1))\n",
    "accuracy_operation = tf.reduce_mean(tf.cast(correct_prediction, tf.float32))\n",
    "saver = tf.train.Saver()\n",
    "\n",
    "EPOCHS = 30\n",
    "BATCH_SIZE = 128\n",
    "\n",
    "def evaluate(X_data, y_data):\n",
    "    num_examples = len(X_data)\n",
    "    total_accuracy = 0\n",
    "    sess = tf.get_default_session()\n",
    "    for offset in range(0, num_examples, BATCH_SIZE):\n",
    "        batch_x, batch_y = X_data[offset:offset+BATCH_SIZE], y_data[offset:offset+BATCH_SIZE]\n",
    "        accuracy = sess.run(accuracy_operation, feed_dict={x: batch_x, y: batch_y})\n",
    "        total_accuracy += (accuracy * len(batch_x))\n",
    "    return total_accuracy / num_examples\n",
    "\n",
    "with tf.Session() as sess:\n",
    "    sess.run(tf.global_variables_initializer())\n",
    "    num_examples = len(X_train)\n",
    "\n",
    "    print(\"Training...\")\n",
    "    print()\n",
    "    for i in range(EPOCHS):\n",
    "        X_train, y_train = shuffle(X_train, y_train)\n",
    "        for offset in range(0, num_examples, BATCH_SIZE):\n",
    "            end = offset + BATCH_SIZE\n",
    "            batch_x, batch_y = X_train[offset:end], y_train[offset:end]\n",
    "            sess.run(training_operation, feed_dict={x: batch_x, y: batch_y})\n",
    "        train_accuracy = evaluate(X_train, y_train)     \n",
    "        validation_accuracy = evaluate(X_valid, y_valid)\n",
    "        print(\"EPOCH {} ...\".format(i+1))\n",
    "        print(\"Train Accuracy = {:.3f}\".format(train_accuracy))\n",
    "        print(\"Validation Accuracy = {:.3f}\".format(validation_accuracy))\n",
    "        print()\n",
    "        saver.save(sess, './model/model.ckpt',global_step=i)\n",
    "    \n",
    "    print(\"Model saved\")"
   ]
  },
  {
   "cell_type": "markdown",
   "metadata": {},
   "source": [
    "When EPOCH is 29, the Validation Accuray reaches the highest. So the model of EPOCH 29 is used on test set."
   ]
  },
  {
   "cell_type": "code",
   "execution_count": 31,
   "metadata": {},
   "outputs": [
    {
     "name": "stdout",
     "output_type": "stream",
     "text": [
      "Test Accuracy: 0.957\n"
     ]
    }
   ],
   "source": [
    "with tf.Session() as sess:\n",
    "    saver.restore(sess, './model/model.ckpt-29')\n",
    "    test_accuracy = evaluate(X_test, y_test)\n",
    "    print('Test Accuracy: {:.3f}'.format(test_accuracy))"
   ]
  },
  {
   "cell_type": "markdown",
   "metadata": {},
   "source": [
    "## Step 3: Test a Model on New Images"
   ]
  },
  {
   "cell_type": "markdown",
   "metadata": {},
   "source": [
    "I download some pictures of German traffic signs from the web and use the model to predict the traffic sign type. The document \"signnames.csv\" contains mappings from the class id (integer) to the actual sign name."
   ]
  },
  {
   "cell_type": "markdown",
   "metadata": {},
   "source": [
    "### Load and Output the Images"
   ]
  },
  {
   "cell_type": "code",
   "execution_count": 38,
   "metadata": {},
   "outputs": [
    {
     "data": {
      "image/png": "[encoded data removed]",
      "text/plain": [
       "<matplotlib.figure.Figure at 0x2da397abf60>"
      ]
     },
     "metadata": {},
     "output_type": "display_data"
    },
    {
     "data": {
      "image/png": "[encoded data removed]",
      "text/plain": [
       "<matplotlib.figure.Figure at 0x2da339d1400>"
      ]
     },
     "metadata": {},
     "output_type": "display_data"
    },
    {
     "data": {
      "image/png": "[encoded data removed]",
      "text/plain": [
       "<matplotlib.figure.Figure at 0x2da313b7e48>"
      ]
     },
     "metadata": {},
     "output_type": "display_data"
    },
    {
     "data": {
      "image/png": "[encoded data removed]",
      "text/plain": [
       "<matplotlib.figure.Figure at 0x2da313cdd30>"
      ]
     },
     "metadata": {},
     "output_type": "display_data"
    },
    {
     "data": {
      "image/png": "[encoded data removed]",
      "text/plain": [
       "<matplotlib.figure.Figure at 0x2da38e64fd0>"
      ]
     },
     "metadata": {},
     "output_type": "display_data"
    }
   ],
   "source": [
    "from PIL import Image\n",
    "import os\n",
    "names=[]\n",
    "path=\"./images/\"\n",
    "files=os.listdir(path)\n",
    "images=[]\n",
    "labels=[]\n",
    "i=0\n",
    "for file in files:\n",
    "    label = file.split('_')[0]\n",
    "    labels.append(label)\n",
    "    name=file.split('.')[0]\n",
    "    data_dir = os.path.join(path, file)\n",
    "    img = Image.open(data_dir)\n",
    "    new=os.path.join(path, name+\".jpg\")\n",
    "    img.save(new)\n",
    "    img_jpg =  cv2.cvtColor(cv2.imread(new), cv2.COLOR_BGR2RGB)\n",
    "    img_jpg = cv2.resize(img_jpg, (32, 32)) \n",
    "    images.append(img_jpg)\n",
    "    plt.figure(figsize=(3,3))\n",
    "    plt.imshow(img_jpg)\n",
    "    plt.title(name) \n",
    "# Preprocess the Images\n",
    "images=Process(images)"
   ]
  },
  {
   "cell_type": "markdown",
   "metadata": {},
   "source": [
    "### Analyze Performance"
   ]
  },
  {
   "cell_type": "code",
   "execution_count": 40,
   "metadata": {},
   "outputs": [
    {
     "name": "stdout",
     "output_type": "stream",
     "text": [
      "Test Accuracy = 1.000\n"
     ]
    }
   ],
   "source": [
    "with tf.Session() as sess:\n",
    "    saver.restore(sess, './model/model.ckpt-29')\n",
    "\n",
    "    test_accuracy = evaluate(images, labels)\n",
    "    print(\"Test Accuracy = {:.3f}\".format(test_accuracy))"
   ]
  },
  {
   "cell_type": "markdown",
   "metadata": {},
   "source": [
    "### Output Top 5 Softmax Probabilities For Each Image Found on the Web"
   ]
  },
  {
   "cell_type": "code",
   "execution_count": 42,
   "metadata": {},
   "outputs": [
    {
     "name": "stdout",
     "output_type": "stream",
     "text": [
      "Image:0, label:0, prediction:[ 0 32 26 17 25],probability:[  9.99941587e-01   2.72687103e-05   7.07244908e-06   6.39915197e-06\n",
      "   6.08015625e-06] \n",
      "\n",
      "Image:1, label:14, prediction:[14 15 12 33 13],probability:[  1.00000000e+00   1.94081506e-09   1.82484652e-11   4.66862486e-12\n",
      "   2.27778538e-12] \n",
      "\n",
      "Image:2, label:1, prediction:[ 1 40  5  7  2],probability:[  1.00000000e+00   1.17127099e-21   1.38450591e-24   6.08187536e-30\n",
      "   5.13098509e-34] \n",
      "\n",
      "Image:3, label:2, prediction:[ 2  3 34  1  5],probability:[  1.00000000e+00   6.66787666e-21   4.45562365e-23   4.01684941e-25\n",
      "   9.99810805e-28] \n",
      "\n",
      "Image:4, label:35, prediction:[35 15 13 12 34],probability:[  9.99238729e-01   5.07587334e-04   2.23201219e-04   2.75284001e-05\n",
      "   2.34276058e-06] \n",
      "\n"
     ]
    }
   ],
   "source": [
    "with tf.Session() as sess:\n",
    "    saver.restore(sess, './model/model.ckpt-29')\n",
    "    top_5 = sess.run(tf.nn.top_k(tf.nn.softmax(logits), k=5), feed_dict={x:images})\n",
    "    for i in range(len(images)):\n",
    "        format_str = ('Image:%d, label:%s, prediction:%s,probability:%s \\n')\n",
    "        print (format_str % (i, labels[i], top_5.indices[i],top_5.values[i]))"
   ]
  },
  {
   "cell_type": "code",
   "execution_count": null,
   "metadata": {},
   "outputs": [],
   "source": []
  }
 ],
 "metadata": {
  "kernelspec": {
   "display_name": "Python 3",
   "language": "python",
   "name": "python3"
  },
  "language_info": {
   "codemirror_mode": {
    "name": "ipython",
    "version": 3
   },
   "file_extension": ".py",
   "mimetype": "text/x-python",
   "name": "python",
   "nbconvert_exporter": "python",
   "pygments_lexer": "ipython3",
   "version": "3.5.2"
  },
  "widgets": {
   "state": {},
   "version": "1.1.2"
  }
 },
 "nbformat": 4,
 "nbformat_minor": 2
}
